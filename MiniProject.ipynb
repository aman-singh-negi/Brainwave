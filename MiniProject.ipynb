{
  "cells": [
    {
      "cell_type": "markdown",
      "metadata": {
        "id": "view-in-github",
        "colab_type": "text"
      },
      "source": [
        "<a href=\"https://colab.research.google.com/github/aman-singh-negi/Brainwave/blob/main/MiniProject.ipynb\" target=\"_parent\"><img src=\"https://colab.research.google.com/assets/colab-badge.svg\" alt=\"Open In Colab\"/></a>"
      ]
    },
    {
      "cell_type": "code",
      "execution_count": 20,
      "metadata": {
        "id": "Qpy6507rCw69"
      },
      "outputs": [],
      "source": [
        "import os\n",
        "import random\n",
        "import numpy as np\n",
        "import torch\n",
        "import torch.nn as nn\n",
        "import torch.optim as optim\n",
        "import torch.nn.functional as F\n",
        "import torch.autograd as autograd\n",
        "from torch.autograd import Variable\n",
        "from collections import deque, namedtuple"
      ]
    },
    {
      "cell_type": "code",
      "source": [
        "!pip install gymnasium\n",
        "!apt-get install -y swig\n",
        "!apt-get install -y build-essential python3-dev\n",
        "!pip install box2d-py\n",
        "!pip install gym[box2d]\n",
        "!pip install imageio"
      ],
      "metadata": {
        "colab": {
          "base_uri": "https://localhost:8080/"
        },
        "id": "DlmxbzIGqyIl",
        "outputId": "12bd5568-002c-43e8-cdc1-e1f0d1a20358"
      },
      "execution_count": 21,
      "outputs": [
        {
          "output_type": "stream",
          "name": "stdout",
          "text": [
            "Requirement already satisfied: gymnasium in /usr/local/lib/python3.10/dist-packages (1.0.0)\n",
            "Requirement already satisfied: numpy>=1.21.0 in /usr/local/lib/python3.10/dist-packages (from gymnasium) (1.26.4)\n",
            "Requirement already satisfied: cloudpickle>=1.2.0 in /usr/local/lib/python3.10/dist-packages (from gymnasium) (3.1.0)\n",
            "Requirement already satisfied: typing-extensions>=4.3.0 in /usr/local/lib/python3.10/dist-packages (from gymnasium) (4.12.2)\n",
            "Requirement already satisfied: farama-notifications>=0.0.1 in /usr/local/lib/python3.10/dist-packages (from gymnasium) (0.0.4)\n",
            "Reading package lists... Done\n",
            "Building dependency tree... Done\n",
            "Reading state information... Done\n",
            "swig is already the newest version (4.0.2-1ubuntu1).\n",
            "0 upgraded, 0 newly installed, 0 to remove and 49 not upgraded.\n",
            "Reading package lists... Done\n",
            "Building dependency tree... Done\n",
            "Reading state information... Done\n",
            "build-essential is already the newest version (12.9ubuntu3).\n",
            "python3-dev is already the newest version (3.10.6-1~22.04.1).\n",
            "0 upgraded, 0 newly installed, 0 to remove and 49 not upgraded.\n",
            "Requirement already satisfied: box2d-py in /usr/local/lib/python3.10/dist-packages (2.3.5)\n",
            "Requirement already satisfied: gym[box2d] in /usr/local/lib/python3.10/dist-packages (0.25.2)\n",
            "Requirement already satisfied: numpy>=1.18.0 in /usr/local/lib/python3.10/dist-packages (from gym[box2d]) (1.26.4)\n",
            "Requirement already satisfied: cloudpickle>=1.2.0 in /usr/local/lib/python3.10/dist-packages (from gym[box2d]) (3.1.0)\n",
            "Requirement already satisfied: gym_notices>=0.0.4 in /usr/local/lib/python3.10/dist-packages (from gym[box2d]) (0.0.8)\n",
            "Requirement already satisfied: box2d-py==2.3.5 in /usr/local/lib/python3.10/dist-packages (from gym[box2d]) (2.3.5)\n",
            "Requirement already satisfied: pygame==2.1.0 in /usr/local/lib/python3.10/dist-packages (from gym[box2d]) (2.1.0)\n",
            "Requirement already satisfied: swig==4.* in /usr/local/lib/python3.10/dist-packages (from gym[box2d]) (4.3.0)\n",
            "Requirement already satisfied: imageio in /usr/local/lib/python3.10/dist-packages (2.36.1)\n",
            "Requirement already satisfied: numpy in /usr/local/lib/python3.10/dist-packages (from imageio) (1.26.4)\n",
            "Requirement already satisfied: pillow>=8.3.2 in /usr/local/lib/python3.10/dist-packages (from imageio) (11.1.0)\n"
          ]
        }
      ]
    },
    {
      "cell_type": "code",
      "execution_count": 22,
      "metadata": {
        "id": "kr2eJuWZFJnZ"
      },
      "outputs": [],
      "source": [
        "class Network(nn.Module):\n",
        "    def __init__(self, state_size, action_size, seed=42):\n",
        "        super(Network, self).__init__()\n",
        "        self.seed = torch.manual_seed(seed)\n",
        "        self.fc1 = nn.Linear(state_size, 128)\n",
        "        self.fc2 = nn.Linear(128, 128)\n",
        "        self.fc3 = nn.Linear(128, 64)\n",
        "        self.fc4 = nn.Linear(64, action_size)\n",
        "        self.bn1 = nn.BatchNorm1d(128)\n",
        "        self.bn2 = nn.BatchNorm1d(128)\n",
        "        self.bn3 = nn.BatchNorm1d(64)\n",
        "\n",
        "    def forward(self, state):\n",
        "        x = self.fc1(state)\n",
        "        x = self.bn1(x)\n",
        "        x = F.relu(x)\n",
        "        x = self.fc2(x)\n",
        "        x = self.bn2(x)\n",
        "        x = F.relu(x)\n",
        "        x = self.fc3(x)\n",
        "        x = self.bn3(x)\n",
        "        x = F.relu(x)\n",
        "        return self.fc4(x)\n",
        "\n",
        "\n",
        "import gymnasium as gym\n",
        "env = gym.make('LunarLander-v3')\n",
        "state_shape = env.observation_space.shape\n",
        "state_size = env.observation_space.shape[0]\n",
        "number_actions = env.action_space.n\n",
        "\n",
        "learning_rate = 1e-4\n",
        "minibatch_size = 64\n",
        "discount_factor = 0.99\n",
        "replay_buffer_size = int(1e5)\n",
        "interpolation_parameter = 5e-3\n",
        "update_every = 4"
      ]
    },
    {
      "cell_type": "code",
      "execution_count": 23,
      "metadata": {
        "id": "4oFqEu3tFIOV"
      },
      "outputs": [],
      "source": [
        "class ReplayMemory(object):\n",
        "    def __init__(self, capacity):\n",
        "        self.device = torch.device(\"cuda:0\" if torch.cuda.is_available() else \"cpu\")\n",
        "        self.capacity = capacity\n",
        "        self.memory = []\n",
        "        self.position = 0\n",
        "\n",
        "    def push(self, event):\n",
        "        if len(self.memory) < self.capacity:\n",
        "            self.memory.append(None)\n",
        "        self.memory[self.position] = event\n",
        "        self.position = (self.position + 1) % self.capacity\n",
        "\n",
        "    def sample(self, batch_size):\n",
        "        experiences = random.sample(self.memory, k=batch_size)\n",
        "        states = torch.from_numpy(np.vstack([e[0] for e in experiences if e is not None])).float().to(self.device)\n",
        "        actions = torch.from_numpy(np.vstack([e[1] for e in experiences if e is not None])).long().to(self.device)\n",
        "        rewards = torch.from_numpy(np.vstack([e[2] for e in experiences if e is not None])).float().to(self.device)\n",
        "        next_states = torch.from_numpy(np.vstack([e[3] for e in experiences if e is not None])).float().to(self.device)\n",
        "        dones = torch.from_numpy(np.vstack([e[4] for e in experiences if e is not None]).astype(np.uint8)).float().to(self.device)\n",
        "        return states, next_states, actions, rewards, dones\n",
        "\n",
        "    def __len__(self):\n",
        "        return len(self.memory)"
      ]
    },
    {
      "cell_type": "code",
      "execution_count": 24,
      "metadata": {
        "colab": {
          "base_uri": "https://localhost:8080/"
        },
        "id": "GWoEvQy-Drni",
        "outputId": "79bd4c92-c536-4c8c-e2ac-1a4e273111b7"
      },
      "outputs": [
        {
          "output_type": "stream",
          "name": "stdout",
          "text": [
            "Episode 100\tAverage score: -25.34\n",
            "Episode 200\tAverage score: -0.30\n",
            "Episode 300\tAverage score: 19.31\n",
            "Episode 400\tAverage score: 32.51\n",
            "Episode 500\tAverage score: 49.12\n",
            "Episode 600\tAverage score: 39.66\n",
            "Episode 700\tAverage score: 51.06\n",
            "Episode 800\tAverage score: 56.28\n",
            "Episode 900\tAverage score: 68.62\n",
            "Episode 1000\tAverage score: 67.79\n",
            "Episode 1100\tAverage score: 62.10\n",
            "Episode 1200\tAverage score: 68.75\n",
            "Episode 1300\tAverage score: 65.05\n",
            "Episode 1400\tAverage score: 67.25\n",
            "Episode 1500\tAverage score: 76.31\n",
            "Episode 1600\tAverage score: 66.71\n",
            "Episode 1700\tAverage score: 75.80\n",
            "Episode 1800\tAverage score: 74.77\n",
            "Episode 1900\tAverage score: 79.07\n",
            "Episode 2000\tAverage score: 70.10\n"
          ]
        }
      ],
      "source": [
        "class Agent:\n",
        "    def __init__(self, state_size, action_size):\n",
        "        self.device = torch.device(\"cuda:0\" if torch.cuda.is_available() else \"cpu\")\n",
        "        self.state_size = state_size\n",
        "        self.action_size = action_size\n",
        "        self.local_qnetwork = Network(state_size, action_size).to(self.device)\n",
        "        self.target_qnetwork = Network(state_size, action_size).to(self.device)\n",
        "        self.optimizer = optim.Adam(self.local_qnetwork.parameters(), lr=learning_rate)\n",
        "        self.memory = ReplayMemory(replay_buffer_size)\n",
        "        self.t_step = 0\n",
        "\n",
        "    def step(self, state, action, reward, next_state, done):\n",
        "        self.memory.push((state, action, reward, next_state, done))\n",
        "        self.t_step = (self.t_step + 1) % update_every\n",
        "        if self.t_step == 0:\n",
        "            if len(self.memory) > minibatch_size:\n",
        "                experiences = self.memory.sample(minibatch_size)\n",
        "                self.learn(experiences, discount_factor)\n",
        "\n",
        "    def act(self, state, epsilon=0.):\n",
        "        state = torch.from_numpy(state).float().unsqueeze(0).to(self.device)\n",
        "        self.local_qnetwork.eval()\n",
        "        with torch.no_grad():\n",
        "            action_values = self.local_qnetwork(state)\n",
        "        self.local_qnetwork.train()\n",
        "        if random.random() > epsilon:\n",
        "            return np.argmax(action_values.cpu().data.numpy())\n",
        "        else:\n",
        "            return random.choice(np.arange(self.action_size))\n",
        "\n",
        "    def learn(self, experiences, discount_factor):\n",
        "        states, next_states, actions, rewards, dones = experiences\n",
        "        self.local_qnetwork.eval()\n",
        "        with torch.no_grad():\n",
        "            best_actions = self.local_qnetwork(next_states).argmax(1).unsqueeze(1)\n",
        "            next_qtargets = self.target_qnetwork(next_states).gather(1, best_actions)\n",
        "        self.local_qnetwork.train()\n",
        "        q_targets = rewards + (discount_factor * next_qtargets * (1 - dones))\n",
        "        q_expected = self.local_qnetwork(states).gather(1, actions)\n",
        "        loss = F.huber_loss(q_expected, q_targets)\n",
        "        self.optimizer.zero_grad()\n",
        "        loss.backward()\n",
        "        torch.nn.utils.clip_grad_norm_(self.local_qnetwork.parameters(), 1)\n",
        "        self.optimizer.step()\n",
        "        self.soft_update(self.local_qnetwork, self.target_qnetwork, interpolation_parameter)\n",
        "    def soft_update(self, local_model, target_model, tau):\n",
        "        for target_param, local_param in zip(target_model.parameters(), local_model.parameters()):\n",
        "            target_param.data.copy_(tau * local_param.data + (1.0 - tau) * target_param.data)\n",
        "\n",
        "\n",
        "agent = Agent(state_size,number_actions)\n",
        "\n",
        "number_episodes = 2000\n",
        "maximum_num_t_steps = 1000\n",
        "epsilon_starting_value = 1.0\n",
        "epsilon_ending_value = 0.01\n",
        "epsilon_decay_value = 0.995\n",
        "epsilon = epsilon_starting_value\n",
        "scores_on_100_episodes = deque(maxlen=100)\n",
        "\n",
        "\n",
        "for episode in range(1, number_episodes + 1):\n",
        "    state, _ = env.reset()\n",
        "    score = 0\n",
        "    for t in range(maximum_num_t_steps):\n",
        "        action = agent.act(state, epsilon)\n",
        "        next_state, reward, done, _, _ = env.step(action)\n",
        "        reward = np.clip(reward, -1, 1)\n",
        "        agent.step(state, action, reward, next_state, done)\n",
        "        state = next_state\n",
        "        score += reward\n",
        "        if done:\n",
        "            break\n",
        "\n",
        "    scores_on_100_episodes.append(score)\n",
        "    epsilon = max(epsilon_ending_value, epsilon_decay_value * epsilon)\n",
        "\n",
        "    print(f'\\rEpisode {episode}\\tAverage score: {np.mean(scores_on_100_episodes):.2f}', end=\"\")\n",
        "    if episode % 100 == 0:\n",
        "        print(f'\\rEpisode {episode}\\tAverage score: {np.mean(scores_on_100_episodes):.2f}')\n",
        "    if np.mean(scores_on_100_episodes) >= 200.0:\n",
        "        print(f'\\nEnvironment solved in {episode - 100} episodes! Average score: {np.mean(scores_on_100_episodes):.2f}')\n",
        "        torch.save(agent.local_qnetwork.state_dict(), 'checkpoint.pth')\n",
        "        break\n"
      ]
    },
    {
      "cell_type": "markdown",
      "metadata": {
        "id": "P3-VY5FjGQ_k"
      },
      "source": [
        "# **UI Interface**"
      ]
    },
    {
      "cell_type": "code",
      "execution_count": 25,
      "metadata": {
        "id": "Bu1KlXndFoE_"
      },
      "outputs": [],
      "source": [
        "import glob\n",
        "import io\n",
        "import base64\n",
        "import imageio\n",
        "from IPython.display import HTML, display"
      ]
    },
    {
      "cell_type": "code",
      "execution_count": 26,
      "metadata": {
        "id": "zbguhuh8FoQ_"
      },
      "outputs": [],
      "source": [
        "def save_video_of_model(agent, env_name, video_name='video.mp4'):\n",
        "    \"\"\"Save a video of the agent interacting with the environment.\"\"\"\n",
        "    env = gym.make(env_name, render_mode='rgb_array')\n",
        "    state, _ = env.reset()\n",
        "    done = False\n",
        "    frames = []\n",
        "    while not done:\n",
        "        frame = env.render()\n",
        "        frames.append(frame)\n",
        "        action = agent.act(state)\n",
        "        state, reward, done, _, _ = env.step(action.item())\n",
        "    env.close()\n",
        "\n",
        "    # Save the video to a file\n",
        "    imageio.mimsave(video_name, frames, fps=30)\n",
        "    print(f\"Video saved as {video_name}\")"
      ]
    },
    {
      "cell_type": "code",
      "execution_count": 27,
      "metadata": {
        "colab": {
          "base_uri": "https://localhost:8080/"
        },
        "id": "U4VXAUhAF0yq",
        "outputId": "5726a025-224f-46c0-9706-6ccd807609ec"
      },
      "outputs": [
        {
          "output_type": "stream",
          "name": "stderr",
          "text": [
            "WARNING:imageio_ffmpeg:IMAGEIO FFMPEG_WRITER WARNING: input image is not divisible by macro_block_size=16, resizing from (600, 400) to (608, 400) to ensure video compatibility with most codecs and players. To prevent resizing, make your input image divisible by the macro_block_size or set the macro_block_size to 1 (risking incompatibility).\n"
          ]
        },
        {
          "output_type": "stream",
          "name": "stdout",
          "text": [
            "Video saved as video.mp4\n",
            "The video is saved as video.mp4. You can open it with any media player.\n"
          ]
        }
      ],
      "source": [
        "def play_saved_video(video_name='video.mp4'):\n",
        "    \"\"\"Play the saved video or prompt if the video is missing.\"\"\"\n",
        "    if os.path.exists(video_name):\n",
        "        print(f\"The video is saved as {video_name}. You can open it with any media player.\")\n",
        "    else:\n",
        "        print(f\"Could not find video: {video_name}. Ensure the video is saved correctly.\")\n",
        "\n",
        "save_video_of_model(agent, 'LunarLander-v3')\n",
        "play_saved_video()\n"
      ]
    },
    {
      "cell_type": "code",
      "execution_count": 28,
      "metadata": {
        "colab": {
          "base_uri": "https://localhost:8080/",
          "height": 421
        },
        "id": "SZrPXjrjP978",
        "outputId": "299e73ed-6349-493f-8939-baee4ecfbfba"
      },
      "outputs": [
        {
          "output_type": "execute_result",
          "data": {
            "text/plain": [
              "<IPython.core.display.Video object>"
            ],
            "text/html": [
              "<video controls  >\n",
              " <source src=\"data:video/mp4;base64,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\" type=\"video/mp4\">\n",
              " Your browser does not support the video tag.\n",
              " </video>"
            ]
          },
          "metadata": {},
          "execution_count": 28
        }
      ],
      "source": [
        "from IPython.display import Video\n",
        "Video(\"video.mp4\", embed=True)"
      ]
    }
  ],
  "metadata": {
    "colab": {
      "provenance": [],
      "authorship_tag": "ABX9TyNIVBHV+GeXNxojalxiETaU",
      "include_colab_link": true
    },
    "kernelspec": {
      "display_name": "Python 3",
      "name": "python3"
    },
    "language_info": {
      "name": "python"
    }
  },
  "nbformat": 4,
  "nbformat_minor": 0
}